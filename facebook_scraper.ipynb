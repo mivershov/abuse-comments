{
 "cells": [
  {
   "cell_type": "markdown",
   "metadata": {},
   "source": [
    "Парсер описаний видео и комментариев с facebook.<br>Позволяет собрать данные с определенной страницы (page_id) от заданной даты до текущего дня.<br>Работает через Facebook Graph API"
   ]
  },
  {
   "cell_type": "code",
   "execution_count": 1,
   "metadata": {
    "collapsed": true,
    "scrolled": true
   },
   "outputs": [],
   "source": [
    "from datetime import datetime\n",
    "import pandas as pd\n",
    "\n",
    "import urllib3\n",
    "import facebook\n",
    "import requests"
   ]
  },
  {
   "cell_type": "code",
   "execution_count": 19,
   "metadata": {
    "collapsed": true
   },
   "outputs": [],
   "source": [
    "# TODO: add start_date\n",
    "def get_posts_from_page(page_id, token, stop_date):\n",
    "    stop_date = datetime.strptime(stop_date, '%d.%m.%Y')\n",
    "    request = 'https://graph.facebook.com/'+page_id+'/feed?access_token='+token #first request\n",
    "    d = {'ID': [], 'URL': [], 'Publish Date': [], 'Lead sentences': []}\n",
    "    while (True):\n",
    "        posts_data = requests.get(request).json()\n",
    "        for post in posts_data['data']:\n",
    "            post_date = datetime.strptime(post['created_time'][:10], '%Y-%m-%d')\n",
    "            if post_date < stop_date:\n",
    "                break\n",
    "            d['ID'].append(post['id'])\n",
    "            d['URL'].append('https://www.facebook.com/'+post['id'])\n",
    "            d['Publish Date'].append(post_date)\n",
    "            try:\n",
    "                lead = post['message'].replace('\\r', '').replace('\\n', '').replace('|', '')\n",
    "                d['Lead sentences'].append(lead)\n",
    "            except:\n",
    "                lead = '0'\n",
    "                d['Lead sentences'].append(lead)\n",
    "        request = posts_data['paging']['next']\n",
    "        if post_date < stop_date:\n",
    "            break\n",
    "    return d"
   ]
  },
  {
   "cell_type": "code",
   "execution_count": 3,
   "metadata": {
    "collapsed": true
   },
   "outputs": [],
   "source": [
    "def get_comments_from_posts(post_ids, token):\n",
    "    comment_message = []\n",
    "    d = {'ID': [], 'comment': []}\n",
    "    for post_id in post_ids:\n",
    "        try:\n",
    "            comments_on_post = requests.get('https://graph.facebook.com/'+post_id+'/comments?access_token='+token)\n",
    "            comments_data = comments_on_post.json()\n",
    "            for c in comments_data['data']:\n",
    "                d['ID'].append(post_id)\n",
    "                d['comment'].append(c['message'].replace('\\n', '').replace('|', ''))\n",
    "        except:\n",
    "            pass\n",
    "    return d"
   ]
  },
  {
   "cell_type": "code",
   "execution_count": 4,
   "metadata": {
    "collapsed": true
   },
   "outputs": [],
   "source": [
    "def fbscrapper(page_id, token, fname, stop_date):\n",
    "    # скраплю краткую информацию о постах, пишу в csv:\n",
    "    posts = get_posts_from_page(page_id, token, stop_date)\n",
    "    print(\"Собрана информация о постах до даты: \", stop_date, {key: len(value) for key, value in posts.items()})\n",
    "    df = pd.DataFrame(data = posts, )\n",
    "    df.to_csv('./csv/fb_' + fname + '_' + str(stop_date) +'_posts.csv', sep='|', index=False, encoding='utf-8')\n",
    "    # скраплю комментарии, пишу в csv:\n",
    "    comments = get_comments_from_posts(posts['ID'], token)\n",
    "    print('Собрано комментариев к постам до даты:', stop_date, {key: len(value) for key, value in comments.items()})\n",
    "    df = pd.DataFrame(data = comments)\n",
    "    df.to_csv('./csv/fb_' + fname + '_' + str(stop_date) +'_comments.csv', sep='|', index=False, encoding='utf-8')    \n",
    "    return None"
   ]
  },
  {
   "cell_type": "code",
   "execution_count": 6,
   "metadata": {},
   "outputs": [
    {
     "name": "stdout",
     "output_type": "stream",
     "text": [
      "Собрана информация о постах до даты:  01.01.2017 {'ID': 1519, 'URL': 1519, 'Publish Date': 1519, 'Lead sentences': 1519}\n",
      "Собрано комментариев к постам до даты: 01.01.2017 {'ID': 24507, 'comment': 24507}\n",
      "Wall time: 10min 10s\n"
     ]
    }
   ],
   "source": [
    "%%time\n",
    "token = 'EAACEdEose0cBAIGvZBQd7MtzrOyPPRuFC81l6I95ZA6uR7UROuFa6tbeZBdDwDQ01oBhEBDZAgaaFe3VlE2GJBipwttNF9TKq37DIL9PIy5IbzwSFhZA15kt23qoXHbQEd4DA3yWMYfjcgFIOdo5ZBnCZBQpVkKeC1lrMZCHm4uUvvUzWSvugiTLGnaSXmOO0BPXlqdctKFsfwZDZD'\n",
    "page_id = '324852143799' #tvrain\n",
    "fbscrapper(page_id, token, '03.01.2017')"
   ]
  },
  {
   "cell_type": "code",
   "execution_count": 8,
   "metadata": {},
   "outputs": [
    {
     "data": {
      "text/html": [
       "<div>\n",
       "<style>\n",
       "    .dataframe thead tr:only-child th {\n",
       "        text-align: right;\n",
       "    }\n",
       "\n",
       "    .dataframe thead th {\n",
       "        text-align: left;\n",
       "    }\n",
       "\n",
       "    .dataframe tbody tr th {\n",
       "        vertical-align: top;\n",
       "    }\n",
       "</style>\n",
       "<table border=\"1\" class=\"dataframe\">\n",
       "  <thead>\n",
       "    <tr style=\"text-align: right;\">\n",
       "      <th></th>\n",
       "      <th>ID</th>\n",
       "      <th>Lead sentences</th>\n",
       "      <th>Publish Date</th>\n",
       "      <th>URL</th>\n",
       "    </tr>\n",
       "  </thead>\n",
       "  <tbody>\n",
       "    <tr>\n",
       "      <th>1516</th>\n",
       "      <td>324852143799_10154635722058800</td>\n",
       "      <td>Почему внешняя политика для Путина важнее внут...</td>\n",
       "      <td>2017-02-19</td>\n",
       "      <td>https://www.facebook.com/324852143799_10154635...</td>\n",
       "    </tr>\n",
       "    <tr>\n",
       "      <th>1517</th>\n",
       "      <td>324852143799_10154635401233800</td>\n",
       "      <td>«Именно из-за того, что такой запрет, я это де...</td>\n",
       "      <td>2017-02-19</td>\n",
       "      <td>https://www.facebook.com/324852143799_10154635...</td>\n",
       "    </tr>\n",
       "    <tr>\n",
       "      <th>1518</th>\n",
       "      <td>324852143799_10154633543753800</td>\n",
       "      <td>Перебежчики Вороненков и Максакова и реакция р...</td>\n",
       "      <td>2017-02-19</td>\n",
       "      <td>https://www.facebook.com/324852143799_10154633...</td>\n",
       "    </tr>\n",
       "    <tr>\n",
       "      <th>1519</th>\n",
       "      <td>324852143799_10154634984613800</td>\n",
       "      <td>К скандинавским детективам все давно уже привы...</td>\n",
       "      <td>2017-02-19</td>\n",
       "      <td>https://www.facebook.com/324852143799_10154634...</td>\n",
       "    </tr>\n",
       "    <tr>\n",
       "      <th>1520</th>\n",
       "      <td>324852143799_10154635222633800</td>\n",
       "      <td>«Культуры этой еще не было тогда, во-вторых, д...</td>\n",
       "      <td>2017-02-19</td>\n",
       "      <td>https://www.facebook.com/324852143799_10154635...</td>\n",
       "    </tr>\n",
       "  </tbody>\n",
       "</table>\n",
       "</div>"
      ],
      "text/plain": [
       "                                  ID  \\\n",
       "1516  324852143799_10154635722058800   \n",
       "1517  324852143799_10154635401233800   \n",
       "1518  324852143799_10154633543753800   \n",
       "1519  324852143799_10154634984613800   \n",
       "1520  324852143799_10154635222633800   \n",
       "\n",
       "                                         Lead sentences Publish Date  \\\n",
       "1516  Почему внешняя политика для Путина важнее внут...   2017-02-19   \n",
       "1517  «Именно из-за того, что такой запрет, я это де...   2017-02-19   \n",
       "1518  Перебежчики Вороненков и Максакова и реакция р...   2017-02-19   \n",
       "1519  К скандинавским детективам все давно уже привы...   2017-02-19   \n",
       "1520  «Культуры этой еще не было тогда, во-вторых, д...   2017-02-19   \n",
       "\n",
       "                                                    URL  \n",
       "1516  https://www.facebook.com/324852143799_10154635...  \n",
       "1517  https://www.facebook.com/324852143799_10154635...  \n",
       "1518  https://www.facebook.com/324852143799_10154633...  \n",
       "1519  https://www.facebook.com/324852143799_10154634...  \n",
       "1520  https://www.facebook.com/324852143799_10154635...  "
      ]
     },
     "execution_count": 8,
     "metadata": {},
     "output_type": "execute_result"
    }
   ],
   "source": [
    "df = pd.read_csv('./csv/tvrain_01.01.2017_posts.csv', sep='|', encoding='utf-8')\n",
    "df.tail()"
   ]
  },
  {
   "cell_type": "code",
   "execution_count": 5,
   "metadata": {},
   "outputs": [
    {
     "name": "stdout",
     "output_type": "stream",
     "text": [
      "Собрана информация о постах до даты:  02.01.2017 {'ID': 1533, 'URL': 1533, 'Publish Date': 1533, 'Lead sentences': 1533}\n",
      "Собрано комментариев к постам до даты: 02.01.2017 {'ID': 15150, 'comment': 15150}\n",
      "Wall time: 11min 59s\n"
     ]
    }
   ],
   "source": [
    "%%time\n",
    "token = 'EAACEdEose0cBAFm6mET9fwmDZBYuZAUQlXZBaMbZA2DpOteY0f3kLC8hBroEE7MV47oFfc3KoMPU1egLdvSWr85xjevo2Fw5BnDGT29GyKF3rZC7g6U0t2cWs1tpYh9MtGnezo9Y0vtc0ED7ZBCZA3h8wiyZBVsbUWZApG2H2ZB0cbsIuTStzZA5Nmv8Os7ZB9JsiZBdB6T7Oy3lbIAZDZD'\n",
    "page_id = '98606252058' #snob.ru\n",
    "fbscrapper(page_id, token, '02.01.2017')"
   ]
  },
  {
   "cell_type": "code",
   "execution_count": 7,
   "metadata": {},
   "outputs": [
    {
     "name": "stdout",
     "output_type": "stream",
     "text": [
      "Собрана информация о постах до даты:  01.01.2017 {'ID': 1520, 'URL': 1520, 'Publish Date': 1520, 'Lead sentences': 1520}\n",
      "Собрано комментариев к постам до даты: 01.01.2017 {'ID': 10039, 'comment': 10039}\n",
      "Wall time: 9min 52s\n"
     ]
    }
   ],
   "source": [
    "%%time\n",
    "token = 'EAACEdEose0cBAFJYNGu1sI1kJkT0phr7SCuIKo6QhZBGOolM1bzlu5Wgl6lnsciZBPW9ZC9PyOFyoQkRVklP1zwhLpz5aoNeAvQIbSI6ysIr4zgXiujZCQW2iCbeoWZAm4iUz4TSBd8mlgnHqsUgjot3cFGEMuSF0vNRqavEArMJ7e0hWarbbYr6N19yUZA9mIeHBgaZAkfUgZDZD'\n",
    "page_id = '190542150967819' #life news\n",
    "fbscrapper(page_id, token, '01.01.2017')\n"
   ]
  },
  {
   "cell_type": "code",
   "execution_count": 8,
   "metadata": {},
   "outputs": [
    {
     "name": "stdout",
     "output_type": "stream",
     "text": [
      "Собрана информация о постах до даты:  01.01.2016 {'ID': 2102, 'URL': 2102, 'Publish Date': 2102, 'Lead sentences': 2102}\n",
      "Собрано комментариев к постам до даты: 01.01.2016 {'ID': 14014, 'comment': 14014}\n",
      "Wall time: 13min\n"
     ]
    }
   ],
   "source": [
    "%%time\n",
    "token = 'EAACEdEose0cBAFJYNGu1sI1kJkT0phr7SCuIKo6QhZBGOolM1bzlu5Wgl6lnsciZBPW9ZC9PyOFyoQkRVklP1zwhLpz5aoNeAvQIbSI6ysIr4zgXiujZCQW2iCbeoWZAm4iUz4TSBd8mlgnHqsUgjot3cFGEMuSF0vNRqavEArMJ7e0hWarbbYr6N19yUZA9mIeHBgaZAkfUgZDZD'\n",
    "page_id = '190542150967819' #life news\n",
    "fbscrapper(page_id, token, '01.01.2016')"
   ]
  },
  {
   "cell_type": "code",
   "execution_count": 10,
   "metadata": {},
   "outputs": [
    {
     "name": "stdout",
     "output_type": "stream",
     "text": [
      "Собрана информация о постах до даты:  02.01.2016 {'ID': 2140, 'URL': 2140, 'Publish Date': 2140, 'Lead sentences': 2140}\n",
      "Собрано комментариев к постам до даты: 02.01.2016 {'ID': 36676, 'comment': 36676}\n",
      "Wall time: 18min 18s\n"
     ]
    }
   ],
   "source": [
    "%%time\n",
    "token = 'EAACEdEose0cBANAwBwZAZB0EQhZAeyuXg1SP6U447M0Xqrc58iTZC9xIdT6UIldIwHSWfZAQZCgKGzYNpaD2oFLy7hCmZC4tpyjF2LXR4IQSzyYPdkNqcT1XC0loGp6iRJYZA2bh04bDyalHNKw4vR9OZAN5BhkLr68oYZCnzkBBehxtcdXBMRjYZB4aUkLjDkE3IPyx76qPQuWDgZDZD'\n",
    "page_id = '325794294270' #ria news\n",
    "fbscrapper(page_id, token, '02.01.2016')"
   ]
  },
  {
   "cell_type": "code",
   "execution_count": 12,
   "metadata": {},
   "outputs": [
    {
     "name": "stdout",
     "output_type": "stream",
     "text": [
      "Собрана информация о постах до даты:  03.01.2016 {'ID': 2139, 'URL': 2139, 'Publish Date': 2139, 'Lead sentences': 2139}\n",
      "Собрано комментариев к постам до даты: 03.01.2016 {'ID': 27107, 'comment': 27107}\n",
      "Wall time: 16min 23s\n"
     ]
    }
   ],
   "source": [
    "%%time\n",
    "token = 'EAACEdEose0cBAAsOfsn7M8cPJAEDHzZBCwBZCl9LFJdacW67It8yZAeX7mo62bmwQbFSy1W5eHvZAQwZCM8E2bBa6vHXzhiK4zaebSgYqmlAjze3Q5lPJaBvPYoer3hZBXEjFG43zUVHEkKlsNtgJaJreMuDlfYlhvi8AK5iZCvPyLbMMZBAor7AIlGZBPnMeUmyxKDM1NfJNnwZDZD'\n",
    "page_id = '375587425929352' #meduza\n",
    "fbscrapper(page_id, token, '03.01.2016')"
   ]
  },
  {
   "cell_type": "code",
   "execution_count": 8,
   "metadata": {},
   "outputs": [
    {
     "name": "stdout",
     "output_type": "stream",
     "text": [
      "Собрана информация о постах до даты:  03.01.2015 {'ID': 2695, 'URL': 2695, 'Publish Date': 2695, 'Lead sentences': 2695}\n",
      "Собрано комментариев к постам до даты: 03.01.2015 {'ID': 37316, 'comment': 37316}\n",
      "Wall time: 17min 32s\n"
     ]
    }
   ],
   "source": [
    "%%time\n",
    "token = 'EAACEdEose0cBABl9TwNBcjr02525dgQ8ZCOC3uiQEDrzNMooHENI9WCCowDnDxnwnXmwnj2D1E218SysoHuBZBfz1qld55oRddZB44j95zjy5TAz8zr6EMEytTwzZBY4hdMwgB2ZCsZAaerPCbwFTVV9qD7uZBhNVd8ZAiR9aHxxphoHEz6UlnrF6Dg4ZByg83KFSZAeHJxJEiiwZDZD'\n",
    "page_id = '127803987254114' #vesti.ru\n",
    "fbscrapper(page_id, token, 'vesti.ru', '03.01.2015')"
   ]
  },
  {
   "cell_type": "code",
   "execution_count": 9,
   "metadata": {},
   "outputs": [
    {
     "name": "stdout",
     "output_type": "stream",
     "text": [
      "Собрана информация о постах до даты:  03.01.2015 {'ID': 2707, 'URL': 2707, 'Publish Date': 2707, 'Lead sentences': 2707}\n",
      "Собрано комментариев к постам до даты: 03.01.2015 {'ID': 31055, 'comment': 31055}\n",
      "Wall time: 12min 28s\n"
     ]
    }
   ],
   "source": [
    "%%time\n",
    "token = 'EAACEdEose0cBABl9TwNBcjr02525dgQ8ZCOC3uiQEDrzNMooHENI9WCCowDnDxnwnXmwnj2D1E218SysoHuBZBfz1qld55oRddZB44j95zjy5TAz8zr6EMEytTwzZBY4hdMwgB2ZCsZAaerPCbwFTVV9qD7uZBhNVd8ZAiR9aHxxphoHEz6UlnrF6Dg4ZByg83KFSZAeHJxJEiiwZDZD'\n",
    "page_id = '184860593907' #vedomosti\n",
    "fbscrapper(page_id, token, 'vedomosti', '03.01.2015')"
   ]
  },
  {
   "cell_type": "code",
   "execution_count": 5,
   "metadata": {},
   "outputs": [
    {
     "name": "stdout",
     "output_type": "stream",
     "text": [
      "Собрана информация о постах до даты:  03.01.2015 {'ID': 2732, 'URL': 2732, 'Publish Date': 2732, 'Lead sentences': 2732}\n",
      "Собрано комментариев к постам до даты: 03.01.2015 {'ID': 22969, 'comment': 22969}\n",
      "Wall time: 15min 6s\n"
     ]
    }
   ],
   "source": [
    "%%time\n",
    "token = 'EAACEdEose0cBACa2tnk6tqY1mac53TUoo3cMD8rxPyZBXVZAbZBxLxgmAcEaJsGkZBWs3OyTrLKRlVtUPBMZBg0TMntYPwJTouYjM4jnXtSwro6qZCl099RlaNNo0QG3XAoUq7LN9KlfX2ItXZCePhxtJu3IYgKmzz0u7P6rXT2MJsg1n2mcaTVTlGmnlJZAAZC7UIwNAcLGyrAZDZD'\n",
    "page_id = '182549563410' #lentaru\n",
    "fbscrapper(page_id, token, 'lentaru', '03.01.2015')"
   ]
  },
  {
   "cell_type": "code",
   "execution_count": 6,
   "metadata": {},
   "outputs": [
    {
     "name": "stdout",
     "output_type": "stream",
     "text": [
      "Собрана информация о постах до даты:  03.01.2015 {'ID': 2756, 'URL': 2756, 'Publish Date': 2756, 'Lead sentences': 2756}\n",
      "Собрано комментариев к постам до даты: 03.01.2015 {'ID': 15849, 'comment': 15849}\n",
      "Wall time: 12min 34s\n"
     ]
    }
   ],
   "source": [
    "%%time\n",
    "token = 'EAACEdEose0cBACa2tnk6tqY1mac53TUoo3cMD8rxPyZBXVZAbZBxLxgmAcEaJsGkZBWs3OyTrLKRlVtUPBMZBg0TMntYPwJTouYjM4jnXtSwro6qZCl099RlaNNo0QG3XAoUq7LN9KlfX2ItXZCePhxtJu3IYgKmzz0u7P6rXT2MJsg1n2mcaTVTlGmnlJZAAZC7UIwNAcLGyrAZDZD'\n",
    "page_id = '286029632119' #gazeta.ru\n",
    "fbscrapper(page_id, token, 'gazeta.ru', '03.01.2015')"
   ]
  },
  {
   "cell_type": "code",
   "execution_count": 20,
   "metadata": {},
   "outputs": [
    {
     "name": "stdout",
     "output_type": "stream",
     "text": [
      "Собрана информация о постах до даты:  03.01.2015 {'ID': 2547, 'URL': 2547, 'Publish Date': 2547, 'Lead sentences': 2547}\n",
      "Собрано комментариев к постам до даты: 03.01.2015 {'ID': 33473, 'comment': 33473}\n",
      "Wall time: 10min 43s\n"
     ]
    }
   ],
   "source": [
    "%%time\n",
    "token = 'EAACEdEose0cBAAq3R2ZARzjIZC8NzjCyyBHMfoStC1veuepPMPirCdZCLPZA3ygGU43BZAAGYVbnJa01LGep3HZAHWDnl3oBFCJiAUmnujk7M2wMEI6AS4GtVc6ofiyZCOo85FmALvqqZBYeWhRVE5trjPZAl1TSJ1ZBBUwo7zOCSC4miHv7hqwXr6kuR43l1QEErPSbtjnjf8HwZDZD'\n",
    "page_id = '112954062056852' #1tvru\n",
    "fbscrapper(page_id, token, '1tvru', '03.01.2015')"
   ]
  },
  {
   "cell_type": "code",
   "execution_count": 8,
   "metadata": {},
   "outputs": [
    {
     "name": "stdout",
     "output_type": "stream",
     "text": [
      "Собрана информация о постах до даты:  03.01.2015 {'ID': 2753, 'URL': 2753, 'Publish Date': 2753, 'Lead sentences': 2753}\n",
      "Собрано комментариев к постам до даты: 03.01.2015 {'ID': 20075, 'comment': 20075}\n",
      "Wall time: 12min 34s\n"
     ]
    }
   ],
   "source": [
    "%%time\n",
    "token = 'EAACEdEose0cBAFeuvarIEH8TIZBVwptUdW8ZAqjqIgJc8KTeVZAxc7QWrlupKy7KmPtRou71rf1W0xYfDdOIzdhQZAxtIYKyXHgJ9AMZCKZCTsMBvfkh5siKOnQv8TfAnICNOcoyZB6lrlZBaMoCkd8nbV8xAi0omZC7KPxtqNswav3fdYmUI4OBILP0GFAOBLUjWk0yjlMOkoAZDZD'\n",
    "page_id = '135161613191462' #aif.ru\n",
    "fbscrapper(page_id, token, 'aif.ru', '03.01.2015')"
   ]
  },
  {
   "cell_type": "code",
   "execution_count": 9,
   "metadata": {},
   "outputs": [
    {
     "name": "stdout",
     "output_type": "stream",
     "text": [
      "Собрана информация о постах до даты:  03.01.2015 {'ID': 2672, 'URL': 2672, 'Publish Date': 2672, 'Lead sentences': 2672}\n",
      "Собрано комментариев к постам до даты: 03.01.2015 {'ID': 23378, 'comment': 23378}\n",
      "Wall time: 11min 33s\n"
     ]
    }
   ],
   "source": [
    "%%time\n",
    "token = 'EAACEdEose0cBAFeuvarIEH8TIZBVwptUdW8ZAqjqIgJc8KTeVZAxc7QWrlupKy7KmPtRou71rf1W0xYfDdOIzdhQZAxtIYKyXHgJ9AMZCKZCTsMBvfkh5siKOnQv8TfAnICNOcoyZB6lrlZBaMoCkd8nbV8xAi0omZC7KPxtqNswav3fdYmUI4OBILP0GFAOBLUjWk0yjlMOkoAZDZD'\n",
    "page_id = '369256943469' #onlinekpru\n",
    "fbscrapper(page_id, token, 'onlinekpru', '03.01.2015')"
   ]
  },
  {
   "cell_type": "code",
   "execution_count": 10,
   "metadata": {},
   "outputs": [
    {
     "name": "stdout",
     "output_type": "stream",
     "text": [
      "Собрана информация о постах до даты:  03.01.2015 {'ID': 2725, 'URL': 2725, 'Publish Date': 2725, 'Lead sentences': 2725}\n",
      "Собрано комментариев к постам до даты: 03.01.2015 {'ID': 45440, 'comment': 45440}\n",
      "Wall time: 12min 48s\n"
     ]
    }
   ],
   "source": [
    "%%time\n",
    "token = 'EAACEdEose0cBAFeuvarIEH8TIZBVwptUdW8ZAqjqIgJc8KTeVZAxc7QWrlupKy7KmPtRou71rf1W0xYfDdOIzdhQZAxtIYKyXHgJ9AMZCKZCTsMBvfkh5siKOnQv8TfAnICNOcoyZB6lrlZBaMoCkd8nbV8xAi0omZC7KPxtqNswav3fdYmUI4OBILP0GFAOBLUjWk0yjlMOkoAZDZD'\n",
    "page_id = '140965502635514' #rbc.ru\n",
    "fbscrapper(page_id, token, 'rbc.ru', '03.01.2015')"
   ]
  },
  {
   "cell_type": "code",
   "execution_count": 11,
   "metadata": {},
   "outputs": [
    {
     "name": "stdout",
     "output_type": "stream",
     "text": [
      "Собрана информация о постах до даты:  03.01.2015 {'ID': 2431, 'URL': 2431, 'Publish Date': 2431, 'Lead sentences': 2431}\n",
      "Собрано комментариев к постам до даты: 03.01.2015 {'ID': 30334, 'comment': 30334}\n",
      "Wall time: 11min 8s\n"
     ]
    }
   ],
   "source": [
    "%%time\n",
    "token = 'EAACEdEose0cBAAprodzRKa6ZB0hQxIKsdov43ITSxTiQfBczyZAZCXwmBY0kBHmgOx2XwJiuFCpyjydFurih9vKyjc8avW4HAb3Q6ZBq84AO1uiaDhqmaT3UDbrP6CaUz5ROmEHVa2R1HZA0O7lvrWZAE4jn0ZAAocDvMeC461Aqi3h9lH6r9LUdXTK6BJM6ZCmKNj01O85fZBwZDZD'\n",
    "page_id = '107044359321519' #InoSMI\n",
    "fbscrapper(page_id, token, 'InoSMI', '03.01.2015')"
   ]
  },
  {
   "cell_type": "code",
   "execution_count": 12,
   "metadata": {},
   "outputs": [
    {
     "name": "stdout",
     "output_type": "stream",
     "text": [
      "Собрана информация о постах до даты:  03.01.2015 {'ID': 2744, 'URL': 2744, 'Publish Date': 2744, 'Lead sentences': 2744}\n",
      "Собрано комментариев к постам до даты: 03.01.2015 {'ID': 9794, 'comment': 9794}\n",
      "Wall time: 11min 5s\n"
     ]
    }
   ],
   "source": [
    "%%time\n",
    "token = 'EAACEdEose0cBAAprodzRKa6ZB0hQxIKsdov43ITSxTiQfBczyZAZCXwmBY0kBHmgOx2XwJiuFCpyjydFurih9vKyjc8avW4HAb3Q6ZBq84AO1uiaDhqmaT3UDbrP6CaUz5ROmEHVa2R1HZA0O7lvrWZAE4jn0ZAAocDvMeC461Aqi3h9lH6r9LUdXTK6BJM6ZCmKNj01O85fZBwZDZD'\n",
    "page_id = '139349786856' #kommersant.ru\n",
    "fbscrapper(page_id, token, 'kommersant.ru', '03.01.2015')"
   ]
  }
 ],
 "metadata": {
  "kernelspec": {
   "display_name": "Python 3",
   "language": "python",
   "name": "python3"
  },
  "language_info": {
   "codemirror_mode": {
    "name": "ipython",
    "version": 3
   },
   "file_extension": ".py",
   "mimetype": "text/x-python",
   "name": "python",
   "nbconvert_exporter": "python",
   "pygments_lexer": "ipython3",
   "version": "3.6.2"
  }
 },
 "nbformat": 4,
 "nbformat_minor": 2
}
